{
 "cells": [
  {
   "cell_type": "code",
   "execution_count": 4,
   "id": "ac3d7bbb",
   "metadata": {},
   "outputs": [
    {
     "name": "stdout",
     "output_type": "stream",
     "text": [
      "Collecting opencv-python\n",
      "  Using cached opencv_python-4.7.0.68-cp37-abi3-win_amd64.whl (38.2 MB)\n",
      "Requirement already satisfied: numpy>=1.19.3 in c:\\users\\imins\\anaconda3\\lib\\site-packages (from opencv-python) (1.20.3)\n",
      "Installing collected packages: opencv-python\n",
      "Successfully installed opencv-python-4.7.0.68\n"
     ]
    }
   ],
   "source": [
    "! pip install opencv-python\n"
   ]
  },
  {
   "cell_type": "code",
   "execution_count": null,
   "id": "391f2f81",
   "metadata": {},
   "outputs": [],
   "source": [
    "\n"
   ]
  },
  {
   "cell_type": "code",
   "execution_count": 5,
   "id": "3c96fa6b",
   "metadata": {},
   "outputs": [],
   "source": [
    "import cv2"
   ]
  },
  {
   "cell_type": "code",
   "execution_count": 8,
   "id": "6fdd226f",
   "metadata": {},
   "outputs": [
    {
     "name": "stdout",
     "output_type": "stream",
     "text": [
      "Microsoft Windows [Version 10.0.22623.1180]\r\n",
      "(c) Microsoft Corporation. All rights reserved.\r\n",
      "\r\n",
      "C:\\Users\\imins\\Downloads>pip install cmake\n",
      "Collecting cmake\r\n",
      "  Downloading cmake-3.25.0-py2.py3-none-win_amd64.whl (32.6 MB)\r\n",
      "Installing collected packages: cmake\r\n",
      "Successfully installed cmake-3.25.0\r\n",
      "\r\n",
      "C:\\Users\\imins\\Downloads>"
     ]
    }
   ],
   "source": [
    "%%cmd\n",
    "pip install cmake"
   ]
  },
  {
   "cell_type": "code",
   "execution_count": 10,
   "id": "65e97913",
   "metadata": {},
   "outputs": [
    {
     "name": "stdout",
     "output_type": "stream",
     "text": [
      "Microsoft Windows [Version 10.0.22623.1180]\r\n",
      "(c) Microsoft Corporation. All rights reserved.\r\n",
      "\r\n",
      "C:\\Users\\imins\\Downloads>python --version\n",
      "Python 3.9.7\r\n",
      "\r\n",
      "C:\\Users\\imins\\Downloads>"
     ]
    }
   ],
   "source": [
    "%%cmd\n",
    "python --version"
   ]
  },
  {
   "cell_type": "code",
   "execution_count": 11,
   "id": "32a3d73d",
   "metadata": {},
   "outputs": [
    {
     "name": "stdout",
     "output_type": "stream",
     "text": [
      "Microsoft Windows [Version 10.0.22623.1180]\r\n",
      "(c) Microsoft Corporation. All rights reserved.\r\n",
      "\r\n",
      "C:\\Users\\imins\\Downloads>pip install \"C:\\Users\\imins\\Downloads\\Dlib-main\\Dlib-main\\dlib-19.22.99-cp39-cp39-win_amd64.whl\"\n",
      "Processing c:\\users\\imins\\downloads\\dlib-main\\dlib-main\\dlib-19.22.99-cp39-cp39-win_amd64.whl\r\n",
      "Installing collected packages: dlib\r\n",
      "Successfully installed dlib-19.22.99\r\n",
      "\r\n",
      "C:\\Users\\imins\\Downloads>"
     ]
    }
   ],
   "source": [
    "%%cmd\n",
    "pip install \"C:\\Users\\imins\\Downloads\\Dlib-main\\Dlib-main\\dlib-19.22.99-cp39-cp39-win_amd64.whl\""
   ]
  },
  {
   "cell_type": "code",
   "execution_count": 12,
   "id": "ac783852",
   "metadata": {},
   "outputs": [
    {
     "name": "stdout",
     "output_type": "stream",
     "text": [
      "Microsoft Windows [Version 10.0.22623.1180]\r\n",
      "(c) Microsoft Corporation. All rights reserved.\r\n",
      "\r\n",
      "C:\\Users\\imins\\Downloads>pip install face-recognition\n",
      "Collecting face-recognition\r\n",
      "  Using cached face_recognition-1.3.0-py2.py3-none-any.whl (15 kB)\r\n",
      "Requirement already satisfied: numpy in c:\\users\\imins\\anaconda3\\lib\\site-packages (from face-recognition) (1.20.3)\r\n",
      "Requirement already satisfied: dlib>=19.7 in c:\\users\\imins\\anaconda3\\lib\\site-packages (from face-recognition) (19.22.99)\r\n",
      "Requirement already satisfied: face-recognition-models>=0.3.0 in c:\\users\\imins\\anaconda3\\lib\\site-packages (from face-recognition) (0.3.0)\r\n",
      "Requirement already satisfied: Click>=6.0 in c:\\users\\imins\\anaconda3\\lib\\site-packages (from face-recognition) (8.0.3)\r\n",
      "Requirement already satisfied: Pillow in c:\\users\\imins\\anaconda3\\lib\\site-packages (from face-recognition) (8.4.0)\r\n",
      "Requirement already satisfied: colorama in c:\\users\\imins\\anaconda3\\lib\\site-packages (from Click>=6.0->face-recognition) (0.4.4)\r\n",
      "Installing collected packages: face-recognition\r\n",
      "Successfully installed face-recognition-1.3.0\r\n",
      "\r\n",
      "C:\\Users\\imins\\Downloads>"
     ]
    }
   ],
   "source": [
    "%%cmd\n",
    "pip install face-recognition"
   ]
  },
  {
   "cell_type": "code",
   "execution_count": 13,
   "id": "fc2a12ef",
   "metadata": {},
   "outputs": [],
   "source": [
    "import face_recognition\n",
    "from PIL import Image, ImageDraw"
   ]
  },
  {
   "cell_type": "code",
   "execution_count": 14,
   "id": "db72f136",
   "metadata": {},
   "outputs": [],
   "source": [
    "suriya = face_recognition.load_image_file(\"suriya.jpg\")\n",
    "suriya_encoding = face_recognition.face_encodings(suriya)[0]\n"
   ]
  },
  {
   "cell_type": "code",
   "execution_count": 15,
   "id": "48975feb",
   "metadata": {},
   "outputs": [],
   "source": [
    "ramcharan = face_recognition.load_image_file(\"ram charan.jpg\")\n",
    "ramcharan_encoding = face_recognition.face_encodings(ramcharan)[0] "
   ]
  },
  {
   "cell_type": "code",
   "execution_count": 16,
   "id": "7c122b68",
   "metadata": {},
   "outputs": [],
   "source": [
    "mnight  = face_recognition.load_image_file(\"mnight.jpg\")\n",
    "mnight_encoding = face_recognition.face_encodings(mnight)[0]"
   ]
  },
  {
   "cell_type": "code",
   "execution_count": 21,
   "id": "0cf1c4fd",
   "metadata": {},
   "outputs": [],
   "source": [
    "ariaster  = face_recognition.load_image_file(\"ari aster.jpg\")\n",
    "ariaster_encoding = face_recognition.face_encodings(ariaster)[0]"
   ]
  },
  {
   "cell_type": "code",
   "execution_count": 18,
   "id": "346cb0fe",
   "metadata": {},
   "outputs": [],
   "source": [
    "ajith = face_recognition.load_image_file(\"ajith.jpg\")\n",
    "ajith_encoding = face_recognition.face_encodings(ajith)[0]"
   ]
  },
  {
   "cell_type": "code",
   "execution_count": 19,
   "id": "8560f29b",
   "metadata": {},
   "outputs": [],
   "source": [
    "mammooty = face_recognition.load_image_file(\"mammooty.jpg\")\n",
    "mammooty_encoding = face_recognition.face_encodings(mammooty)[0]"
   ]
  },
  {
   "cell_type": "code",
   "execution_count": 20,
   "id": "210384a1",
   "metadata": {},
   "outputs": [],
   "source": [
    "mohanlal = face_recognition.load_image_file(\"mohanlal.jpg\")\n",
    "mohanlal_encoding = face_recognition.face_encodings(mohanlal)[0]"
   ]
  },
  {
   "cell_type": "code",
   "execution_count": 49,
   "id": "d50a7262",
   "metadata": {},
   "outputs": [],
   "source": [
    "alan = face_recognition.load_image_file(\"al.jpeg\")\n",
    "alan_encoding = face_recognition.face_encodings(alan)[0]"
   ]
  },
  {
   "cell_type": "code",
   "execution_count": 56,
   "id": "2f815a15",
   "metadata": {},
   "outputs": [],
   "source": [
    "known_face_encodings = [suriya_encoding,ramcharan_encoding,mnight_encoding,ariaster_encoding,ajith_encoding,mammooty_encoding,mohanlal_encoding,alan_encoding]\n",
    "known_face_names = [\"suriya\",\"ramcharan\",\"m night shyamalan\",\"ari aster\",\"ajith\",\"mammooty\",\"mohanlal\",\"Alan Alexander\"]"
   ]
  },
  {
   "cell_type": "code",
   "execution_count": 67,
   "id": "cbb82e5a",
   "metadata": {},
   "outputs": [],
   "source": [
    "unknown_image = face_recognition.load_image_file(\"grp3.jpg\")"
   ]
  },
  {
   "cell_type": "code",
   "execution_count": 68,
   "id": "e6eecc8f",
   "metadata": {},
   "outputs": [],
   "source": [
    "face_locations = face_recognition.face_locations(unknown_image)\n",
    "face_encodings = face_recognition.face_encodings(unknown_image, face_locations)"
   ]
  },
  {
   "cell_type": "code",
   "execution_count": 69,
   "id": "84b6ff71",
   "metadata": {},
   "outputs": [],
   "source": [
    "pil_image = Image.fromarray(unknown_image)\n",
    "draw = ImageDraw.Draw(pil_image)"
   ]
  },
  {
   "cell_type": "code",
   "execution_count": 70,
   "id": "23c45df9",
   "metadata": {},
   "outputs": [],
   "source": [
    "for (top, right, bottom, left), face_encoding in zip(face_locations, face_encodings):\n",
    "\n",
    "    matches = face_recognition.compare_faces(known_face_encodings, face_encoding)\n",
    "\n",
    "    name = \"Unknown\"\n",
    "\n",
    "    if True in matches:\n",
    "        first_match_index = matches.index(True)\n",
    "        name = known_face_names[first_match_index]\n",
    "\n",
    "    draw.rectangle(((left, top), (right, bottom)), outline=(0, 0, 255))\n",
    "\n",
    "    text_width, text_height = draw.textsize(name)\n",
    "    draw.rectangle(((left, bottom - text_height - 10), (right, bottom)), fill=(0, 0, 255), outline=(0, 0, 255))\n",
    "    draw.text((left + 6, bottom - text_height - 5), name, fill=(255, 255, 255, 255))\n",
    "\n",
    "del draw\n",
    "\n",
    "pil_image.show()\n",
    "\n",
    "pil_image.save(\"image_with_boxe.jpg\")\n"
   ]
  },
  {
   "cell_type": "code",
   "execution_count": null,
   "id": "65d8dac9",
   "metadata": {},
   "outputs": [],
   "source": []
  }
 ],
 "metadata": {
  "kernelspec": {
   "display_name": "Python 3 (ipykernel)",
   "language": "python",
   "name": "python3"
  },
  "language_info": {
   "codemirror_mode": {
    "name": "ipython",
    "version": 3
   },
   "file_extension": ".py",
   "mimetype": "text/x-python",
   "name": "python",
   "nbconvert_exporter": "python",
   "pygments_lexer": "ipython3",
   "version": "3.9.7"
  }
 },
 "nbformat": 4,
 "nbformat_minor": 5
}
